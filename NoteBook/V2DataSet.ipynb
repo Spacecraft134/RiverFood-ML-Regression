{
  "nbformat": 4,
  "nbformat_minor": 0,
  "metadata": {
    "colab": {
      "provenance": []
    },
    "kernelspec": {
      "name": "python3",
      "display_name": "Python 3"
    },
    "language_info": {
      "name": "python"
    }
  },
  "cells": [
    {
      "cell_type": "code",
      "execution_count": null,
      "metadata": {
        "colab": {
          "base_uri": "https://localhost:8080/"
        },
        "id": "0nLJRWQIkuLP",
        "outputId": "3030f7e8-0e59-4f38-ca29-847a949f416f"
      },
      "outputs": [
        {
          "output_type": "stream",
          "name": "stdout",
          "text": [
            "Drive already mounted at /content/drive; to attempt to forcibly remount, call drive.mount(\"/content/drive\", force_remount=True).\n"
          ]
        }
      ],
      "source": [
        "# Block 1: Mount Google Drive\n",
        "from google.colab import drive\n",
        "\n",
        "drive.mount('/content/drive')\n"
      ]
    },
    {
      "cell_type": "code",
      "source": [
        "# Block 2: Load the original dataset (Excel file)\n",
        "import pandas as pd\n",
        "\n",
        "# Adjust the path to where your Excel file is located in Google Drive\n",
        "file_path = '/content/drive/MyDrive/Skunkworks_Theriver_raw_v2.xlsx'  # Change this to your file path\n",
        "df = pd.read_excel(file_path)\n"
      ],
      "metadata": {
        "id": "IFmZeXFUnq_o"
      },
      "execution_count": null,
      "outputs": []
    },
    {
      "cell_type": "code",
      "source": [
        "# Block 3: Process the DataFrame\n",
        "# Convert 'Amount' to numeric (remove $ and commas)\n",
        "# Assuming your date column is named 'Date'\n",
        "df['Date'] = pd.to_datetime(df['Date'], errors='coerce')  # Convert to datetime, coerce errors to NaT\n",
        "\n",
        "df['Amount'] = df['Amount'].replace({'\\$': '', ',': ''}, regex=True).astype(float)\n",
        "\n",
        "# Filter out rows with $0 donations\n",
        "df_v3 = df[df['Amount'] > 0]\n",
        "\n",
        "# Impute missing values in the 'Appeal' column\n",
        "df_v3['Primary ZIP Code'].fillna('Unknown', inplace=True)\n"
      ],
      "metadata": {
        "colab": {
          "base_uri": "https://localhost:8080/"
        },
        "id": "IYXeyxsSnwuU",
        "outputId": "f9eef6f4-2972-472a-ba15-a65963a4a294"
      },
      "execution_count": null,
      "outputs": [
        {
          "output_type": "stream",
          "name": "stderr",
          "text": [
            "<ipython-input-28-613f1148effc>:12: FutureWarning: A value is trying to be set on a copy of a DataFrame or Series through chained assignment using an inplace method.\n",
            "The behavior will change in pandas 3.0. This inplace method will never work because the intermediate object on which we are setting values always behaves as a copy.\n",
            "\n",
            "For example, when doing 'df[col].method(value, inplace=True)', try using 'df.method({col: value}, inplace=True)' or df[col] = df[col].method(value) instead, to perform the operation inplace on the original object.\n",
            "\n",
            "\n",
            "  df_v3['Primary ZIP Code'].fillna('Unknown', inplace=True)\n",
            "<ipython-input-28-613f1148effc>:12: SettingWithCopyWarning: \n",
            "A value is trying to be set on a copy of a slice from a DataFrame\n",
            "\n",
            "See the caveats in the documentation: https://pandas.pydata.org/pandas-docs/stable/user_guide/indexing.html#returning-a-view-versus-a-copy\n",
            "  df_v3['Primary ZIP Code'].fillna('Unknown', inplace=True)\n"
          ]
        }
      ]
    },
    {
      "cell_type": "code",
      "source": [],
      "metadata": {
        "id": "TWjBLjjFw16u"
      },
      "execution_count": null,
      "outputs": []
    },
    {
      "cell_type": "code",
      "source": [
        "# Block 4: Save the V3 dataset\n",
        "# You can save it back to Google Drive\n",
        "v3_file_path = '/content/drive/MyDrive/V3DataSet.'  # Change this to your desired save path\n",
        "df_v3.to_csv(v3_file_path, index=False)\n",
        "\n",
        "print(\"V3 dataset created successfully and saved to Google Drive!\")\n"
      ],
      "metadata": {
        "colab": {
          "base_uri": "https://localhost:8080/"
        },
        "id": "zHf7RTDSowJT",
        "outputId": "ff800a53-894c-4cef-9e54-07e5ece771c3"
      },
      "execution_count": null,
      "outputs": [
        {
          "output_type": "stream",
          "name": "stdout",
          "text": [
            "V3 dataset created successfully and saved to Google Drive!\n"
          ]
        }
      ]
    },
    {
      "cell_type": "code",
      "source": [
        "# Group by 'Campaign' to calculate total donations\n",
        "total_per_campaign = df.groupby('Campaign')['Amount'].sum().reset_index()\n",
        "total_per_campaign.rename(columns={'Amount': 'Total Donation'}, inplace=True)\n",
        "\n",
        "# Merge total donations back into the original DataFrame\n",
        "df = pd.merge(df, total_per_campaign, on='Campaign', how='left')\n"
      ],
      "metadata": {
        "id": "0_-nh7-8w4SC"
      },
      "execution_count": null,
      "outputs": []
    },
    {
      "cell_type": "code",
      "source": [
        "# Assuming the 'Date' column is in datetime format\n",
        "# Extract min and max date for each campaign\n",
        "campaign_dates = df.groupby('Campaign')['Date'].agg(['min', 'max']).reset_index()\n",
        "campaign_dates['Num Months'] = ((campaign_dates['max'] - campaign_dates['min']).dt.days / 30).round()\n",
        "\n",
        "# Merge the number of months back into the original DataFrame\n",
        "df = pd.merge(df, campaign_dates[['Campaign', 'Num Months']], on='Campaign', how='left')\n"
      ],
      "metadata": {
        "id": "20y2Clwrw_WL"
      },
      "execution_count": null,
      "outputs": []
    },
    {
      "cell_type": "code",
      "source": [
        "# Calculate Average Monthly Donation\n",
        "df['Average Monthly Donation'] = df['Total Donation'] / df['Num Months']\n"
      ],
      "metadata": {
        "id": "hetC45ijxBQ_"
      },
      "execution_count": null,
      "outputs": []
    },
    {
      "cell_type": "code",
      "source": [
        "# Optional: Clean up the DataFrame to keep only relevant columns\n",
        "df_cleaned = df[['Date', 'Amount', 'Campaign', 'Total Donation', 'Num Months', 'Average Monthly Donation']]\n",
        "\n",
        "# Save the updated DataFrame to a new Excel file\n",
        "output_file_path = '/content/drive/MyDrive/V3.1DataSet_Normization(Including Montly averages).xlsx'  # Adjust the output path\n",
        "df_cleaned.to_excel(output_file_path, index=False)\n",
        "\n",
        "print(\"Updated dataset with total and average monthly donations has been saved successfully!\")\n"
      ],
      "metadata": {
        "colab": {
          "base_uri": "https://localhost:8080/"
        },
        "id": "-zQIWn6QxCMK",
        "outputId": "3451ecdc-cfbf-407b-88ba-b685fe79be48"
      },
      "execution_count": null,
      "outputs": [
        {
          "output_type": "stream",
          "name": "stdout",
          "text": [
            "Updated dataset with total and average monthly donations has been saved successfully!\n"
          ]
        }
      ]
    },
    {
      "cell_type": "code",
      "source": [
        "# MORE DATA MANIPULATIOn"
      ],
      "metadata": {
        "id": "BoNuPCBl590E"
      },
      "execution_count": null,
      "outputs": []
    },
    {
      "cell_type": "code",
      "source": [
        "import pandas as pd\n",
        "\n",
        "# Load your CSV sheet (replace with your actual file path)\n",
        "file_path = '/content/drive/MyDrive/V3DataSet.csv'  # Update this path if necessary\n",
        "\n",
        "try:\n",
        "    df = pd.read_csv(file_path)  # Load CSV file\n",
        "    print(\"Original DataFrame:\")\n",
        "    print(df)\n",
        "\n",
        "    # Step 1: Calculate the total amount\n",
        "    total_amount = df['Amount'].sum()\n",
        "\n",
        "    # Step 2: Normalize the Amount column and create a new column\n",
        "    df['Normalized Amount'] = df['Amount'] / total_amount\n",
        "\n",
        "    # Display the updated DataFrame\n",
        "    print(\"\\nDataFrame with Normalized Amount:\")\n",
        "    print(df)\n",
        "\n",
        "    # Save the updated DataFrame back to a CSV file\n",
        "    output_file_path = '/content/drive/MyDrive/V3DataSet.csv'  # Update this path if necessary\n",
        "    df.to_csv(output_file_path, index=False)\n",
        "\n",
        "    print(f\"\\nNormalized data saved to: {output_file_path}\")\n",
        "\n",
        "except Exception as e:\n",
        "    print(f\"An error occurred: {e}\")\n"
      ],
      "metadata": {
        "colab": {
          "base_uri": "https://localhost:8080/"
        },
        "id": "eCEFQZix8WgR",
        "outputId": "5503eb86-5cba-476f-e4a5-a40048a2d2b0"
      },
      "execution_count": null,
      "outputs": [
        {
          "output_type": "stream",
          "name": "stdout",
          "text": [
            "Original DataFrame:\n",
            "             Date      Amount            Type                   Fund  \\\n",
            "0      2024-06-10  3000000.00          Pledge  Cap Camp Unrestricted   \n",
            "1      2024-03-12  1500000.00  Pledge Payment  Cap Camp Unrestricted   \n",
            "2      2023-08-21  1500000.00          Pledge  Cap Camp Unrestricted   \n",
            "3      2023-07-27  1012500.00        Donation           Unrestricted   \n",
            "4      2024-05-02   660000.00          Pledge           Unrestricted   \n",
            "...           ...         ...             ...                    ...   \n",
            "10946  2023-11-01        0.75        Donation           Unrestricted   \n",
            "10947  2024-06-03        0.70        Donation           Unrestricted   \n",
            "10948  2023-01-06        0.37        Donation           Unrestricted   \n",
            "10949  2024-08-01        0.20        Donation           Unrestricted   \n",
            "10950  2024-09-04        0.11        Donation           Unrestricted   \n",
            "\n",
            "                        Campaign                    Appeal Primary ZIP Code  \\\n",
            "0      2023-2024 Recipe for Hope           Gov Application          Unknown   \n",
            "1      2023-2024 Recipe for Hope           Gov Application       53703-3340   \n",
            "2      2023-2024 Recipe for Hope           Gov Application       53703-3340   \n",
            "3                        In-Kind    Business Multi Channel       10003-2001   \n",
            "4              Support The River    Foundation Application            98103   \n",
            "...                          ...                       ...              ...   \n",
            "10946          Support The River  Foundation Multi Channel          Unknown   \n",
            "10947          Support The River  Foundation Multi Channel          Unknown   \n",
            "10948          Support The River  Foundation Multi Channel          Unknown   \n",
            "10949          Support The River  Foundation Multi Channel          Unknown   \n",
            "10950          Support The River  Foundation Multi Channel          Unknown   \n",
            "\n",
            "       Account Number  \n",
            "0               20113  \n",
            "1                1910  \n",
            "2                1910  \n",
            "3               10511  \n",
            "4               13936  \n",
            "...               ...  \n",
            "10946            1930  \n",
            "10947            1930  \n",
            "10948            1930  \n",
            "10949            1930  \n",
            "10950            1930  \n",
            "\n",
            "[10951 rows x 8 columns]\n",
            "\n",
            "DataFrame with Normalized Amount:\n",
            "             Date      Amount            Type                   Fund  \\\n",
            "0      2024-06-10  3000000.00          Pledge  Cap Camp Unrestricted   \n",
            "1      2024-03-12  1500000.00  Pledge Payment  Cap Camp Unrestricted   \n",
            "2      2023-08-21  1500000.00          Pledge  Cap Camp Unrestricted   \n",
            "3      2023-07-27  1012500.00        Donation           Unrestricted   \n",
            "4      2024-05-02   660000.00          Pledge           Unrestricted   \n",
            "...           ...         ...             ...                    ...   \n",
            "10946  2023-11-01        0.75        Donation           Unrestricted   \n",
            "10947  2024-06-03        0.70        Donation           Unrestricted   \n",
            "10948  2023-01-06        0.37        Donation           Unrestricted   \n",
            "10949  2024-08-01        0.20        Donation           Unrestricted   \n",
            "10950  2024-09-04        0.11        Donation           Unrestricted   \n",
            "\n",
            "                        Campaign                    Appeal Primary ZIP Code  \\\n",
            "0      2023-2024 Recipe for Hope           Gov Application          Unknown   \n",
            "1      2023-2024 Recipe for Hope           Gov Application       53703-3340   \n",
            "2      2023-2024 Recipe for Hope           Gov Application       53703-3340   \n",
            "3                        In-Kind    Business Multi Channel       10003-2001   \n",
            "4              Support The River    Foundation Application            98103   \n",
            "...                          ...                       ...              ...   \n",
            "10946          Support The River  Foundation Multi Channel          Unknown   \n",
            "10947          Support The River  Foundation Multi Channel          Unknown   \n",
            "10948          Support The River  Foundation Multi Channel          Unknown   \n",
            "10949          Support The River  Foundation Multi Channel          Unknown   \n",
            "10950          Support The River  Foundation Multi Channel          Unknown   \n",
            "\n",
            "       Account Number  Normalized Amount  \n",
            "0               20113       1.371855e-01  \n",
            "1                1910       6.859277e-02  \n",
            "2                1910       6.859277e-02  \n",
            "3               10511       4.630012e-02  \n",
            "4               13936       3.018082e-02  \n",
            "...               ...                ...  \n",
            "10946            1930       3.429638e-08  \n",
            "10947            1930       3.200996e-08  \n",
            "10948            1930       1.691955e-08  \n",
            "10949            1930       9.145703e-09  \n",
            "10950            1930       5.030136e-09  \n",
            "\n",
            "[10951 rows x 9 columns]\n",
            "\n",
            "Normalized data saved to: /content/drive/MyDrive/V3DataSet.csv\n"
          ]
        }
      ]
    },
    {
      "cell_type": "code",
      "source": [
        "import pandas as pd\n",
        "\n",
        "# Load the ZIP code data from the specified path\n",
        "zip_file_path = '/content/drive/MyDrive/reorganized_median_income_data.csv'\n",
        "zip_data = pd.read_csv(zip_file_path)\n",
        "\n",
        "# Load the main donation data\n",
        "donation_file_path = '/content/drive/MyDrive/Skunkworks_Theriver_raw_v2.xlsx'  # Update with your actual file path\n",
        "donation_data = pd.read_excel(donation_file_path, engine='openpyxl')\n",
        "\n",
        "# Display the initial DataFrames\n",
        "print(\"ZIP Data:\")\n",
        "print(zip_data.head())\n",
        "print(\"\\nDonation Data:\")\n",
        "print(donation_data.head())\n",
        "\n",
        "# Convert both merge keys to string type for compatibility\n",
        "donation_data['Primary ZIP Code'] = donation_data['Primary ZIP Code'].astype(str)\n",
        "zip_data['Zip'] = zip_data['Zip'].astype(str)\n",
        "\n",
        "# Merge the datasets on the ZIP code\n",
        "merged_data = pd.merge(donation_data, zip_data, left_on='Primary ZIP Code', right_on='Zip', how='left')\n",
        "\n",
        "# Display the merged DataFrame\n",
        "print(\"\\nMerged Data:\")\n",
        "print(merged_data.head())\n",
        "\n",
        "# Optionally save the merged data\n",
        "merged_file_path = '/content/drive/MyDrive/MergedData.csv'  # Update with your desired file path\n",
        "merged_data.to_csv(merged_file_path, index=False)\n",
        "\n",
        "print(f\"\\nMerged data saved to: {merged_file_path}\")\n"
      ],
      "metadata": {
        "colab": {
          "base_uri": "https://localhost:8080/"
        },
        "id": "E1lk8PpFFa0E",
        "outputId": "4baca55f-49bc-4d26-816b-ca711e8f8328"
      },
      "execution_count": null,
      "outputs": [
        {
          "output_type": "stream",
          "name": "stdout",
          "text": [
            "ZIP Data:\n",
            "     Zip  Median Household Income Population  Rank\n",
            "0  53122                 119536.0      6,080   1.0\n",
            "1  54169                 101339.0      2,653   2.0\n",
            "2  53069                  98625.0        524   3.0\n",
            "3  53217                  97690.0     29,496   4.0\n",
            "4  53097                  96310.0      5,534   5.0\n",
            "\n",
            "Donation Data:\n",
            "        Date     Amount            Type                   Fund  \\\n",
            "0 2024-06-10  3000000.0          Pledge  Cap Camp Unrestricted   \n",
            "1 2024-03-12  1500000.0  Pledge Payment  Cap Camp Unrestricted   \n",
            "2 2023-08-21  1500000.0          Pledge  Cap Camp Unrestricted   \n",
            "3 2023-07-27  1012500.0        Donation           Unrestricted   \n",
            "4 2024-05-02   660000.0          Pledge           Unrestricted   \n",
            "\n",
            "                    Campaign                  Appeal Primary ZIP Code  \\\n",
            "0  2023-2024 Recipe for Hope         Gov Application              NaN   \n",
            "1  2023-2024 Recipe for Hope         Gov Application       53703-3340   \n",
            "2  2023-2024 Recipe for Hope         Gov Application       53703-3340   \n",
            "3                    In-Kind  Business Multi Channel       10003-2001   \n",
            "4          Support The River  Foundation Application            98103   \n",
            "\n",
            "   Account Number  \n",
            "0           20113  \n",
            "1            1910  \n",
            "2            1910  \n",
            "3           10511  \n",
            "4           13936  \n",
            "\n",
            "Merged Data:\n",
            "        Date     Amount            Type                   Fund  \\\n",
            "0 2024-06-10  3000000.0          Pledge  Cap Camp Unrestricted   \n",
            "1 2024-03-12  1500000.0  Pledge Payment  Cap Camp Unrestricted   \n",
            "2 2023-08-21  1500000.0          Pledge  Cap Camp Unrestricted   \n",
            "3 2023-07-27  1012500.0        Donation           Unrestricted   \n",
            "4 2024-05-02   660000.0          Pledge           Unrestricted   \n",
            "\n",
            "                    Campaign                  Appeal Primary ZIP Code  \\\n",
            "0  2023-2024 Recipe for Hope         Gov Application              nan   \n",
            "1  2023-2024 Recipe for Hope         Gov Application       53703-3340   \n",
            "2  2023-2024 Recipe for Hope         Gov Application       53703-3340   \n",
            "3                    In-Kind  Business Multi Channel       10003-2001   \n",
            "4          Support The River  Foundation Application            98103   \n",
            "\n",
            "   Account Number  Zip  Median Household Income Population  Rank  \n",
            "0           20113  NaN                      NaN        NaN   NaN  \n",
            "1            1910  NaN                      NaN        NaN   NaN  \n",
            "2            1910  NaN                      NaN        NaN   NaN  \n",
            "3           10511  NaN                      NaN        NaN   NaN  \n",
            "4           13936  NaN                      NaN        NaN   NaN  \n",
            "\n",
            "Merged data saved to: /content/drive/MyDrive/MergedData.csv\n"
          ]
        }
      ]
    },
    {
      "cell_type": "code",
      "source": [
        "#v2 vs v3"
      ],
      "metadata": {
        "id": "WShRHvhmClI_"
      },
      "execution_count": null,
      "outputs": []
    },
    {
      "cell_type": "code",
      "source": [
        "# Install MAST-ML and required dependencies\n",
        "!pip install mastml\n",
        "!pip install scikit-learn==1.1.3\n"
      ],
      "metadata": {
        "colab": {
          "base_uri": "https://localhost:8080/"
        },
        "id": "i8pj-jHebg77",
        "outputId": "e090936d-4530-4c12-b00d-cd236cb0130d"
      },
      "execution_count": null,
      "outputs": [
        {
          "output_type": "stream",
          "name": "stdout",
          "text": [
            "Requirement already satisfied: mastml in /usr/local/lib/python3.10/dist-packages (3.2.1)\n",
            "Requirement already satisfied: scikit-learn in /usr/local/lib/python3.10/dist-packages (from mastml) (1.1.3)\n",
            "Requirement already satisfied: scikit-optimize in /usr/local/lib/python3.10/dist-packages (from mastml) (0.10.2)\n",
            "Requirement already satisfied: citrination-client in /usr/local/lib/python3.10/dist-packages (from mastml) (6.5.1)\n",
            "Requirement already satisfied: foundry-ml in /usr/local/lib/python3.10/dist-packages (from mastml) (1.0.3)\n",
            "Requirement already satisfied: matminer in /usr/local/lib/python3.10/dist-packages (from mastml) (0.9.3)\n",
            "Requirement already satisfied: matplotlib in /usr/local/lib/python3.10/dist-packages (from mastml) (3.9.2)\n",
            "Requirement already satisfied: mdf-forge in /usr/local/lib/python3.10/dist-packages (from mastml) (0.8.0)\n",
            "Requirement already satisfied: mdf-toolbox in /usr/local/lib/python3.10/dist-packages (from mastml) (0.7.1)\n",
            "Requirement already satisfied: numpy in /usr/local/lib/python3.10/dist-packages (from mastml) (1.26.4)\n",
            "Requirement already satisfied: openpyxl in /usr/local/lib/python3.10/dist-packages (from mastml) (3.1.5)\n",
            "Requirement already satisfied: pandas in /usr/local/lib/python3.10/dist-packages (from mastml) (2.2.2)\n",
            "Requirement already satisfied: pathos in /usr/local/lib/python3.10/dist-packages (from mastml) (0.2.9)\n",
            "Requirement already satisfied: pykan==0.0.5 in /usr/local/lib/python3.10/dist-packages (from mastml) (0.0.5)\n",
            "Requirement already satisfied: pymatgen in /usr/local/lib/python3.10/dist-packages (from mastml) (2024.10.3)\n",
            "Requirement already satisfied: pyyaml in /usr/local/lib/python3.10/dist-packages (from mastml) (6.0.2)\n",
            "Requirement already satisfied: scikit-learn-extra in /usr/local/lib/python3.10/dist-packages (from mastml) (0.3.0)\n",
            "Requirement already satisfied: scipy in /usr/local/lib/python3.10/dist-packages (from mastml) (1.13.1)\n",
            "Requirement already satisfied: shap in /usr/local/lib/python3.10/dist-packages (from mastml) (0.46.0)\n",
            "Requirement already satisfied: sphinx-automodapi in /usr/local/lib/python3.10/dist-packages (from mastml) (0.18.0)\n",
            "Requirement already satisfied: statsmodels in /usr/local/lib/python3.10/dist-packages (from mastml) (0.14.3)\n",
            "Requirement already satisfied: madml in /usr/local/lib/python3.10/dist-packages (from mastml) (2.6.7)\n",
            "Requirement already satisfied: udocker in /usr/local/lib/python3.10/dist-packages (from mastml) (1.3.17)\n",
            "Requirement already satisfied: transfernet in /usr/local/lib/python3.10/dist-packages (from mastml) (0.4.2)\n",
            "Requirement already satisfied: forestci in /usr/local/lib/python3.10/dist-packages (from mastml) (0.7)\n",
            "Requirement already satisfied: requests<3,>=2.20.0 in /usr/local/lib/python3.10/dist-packages (from citrination-client->mastml) (2.32.3)\n",
            "Requirement already satisfied: pypif in /usr/local/lib/python3.10/dist-packages (from citrination-client->mastml) (2.1.2)\n",
            "Requirement already satisfied: six<2 in /usr/local/lib/python3.10/dist-packages (from citrination-client->mastml) (1.16.0)\n",
            "Requirement already satisfied: joblib>=1.0.0 in /usr/local/lib/python3.10/dist-packages (from scikit-learn->mastml) (1.4.2)\n",
            "Requirement already satisfied: threadpoolctl>=2.0.0 in /usr/local/lib/python3.10/dist-packages (from scikit-learn->mastml) (3.5.0)\n",
            "Requirement already satisfied: globus-sdk<4,>=3 in /usr/local/lib/python3.10/dist-packages (from foundry-ml->mastml) (3.45.0)\n",
            "Requirement already satisfied: dlhub-sdk>=1.0.0 in /usr/local/lib/python3.10/dist-packages (from foundry-ml->mastml) (2.1.0)\n",
            "Requirement already satisfied: pydantic>=2.7.2 in /usr/local/lib/python3.10/dist-packages (from foundry-ml->mastml) (2.9.2)\n",
            "Requirement already satisfied: mdf-connect-client>=0.5.0 in /usr/local/lib/python3.10/dist-packages (from foundry-ml->mastml) (0.5.0)\n",
            "Requirement already satisfied: h5py>=2.10.0 in /usr/local/lib/python3.10/dist-packages (from foundry-ml->mastml) (3.11.0)\n",
            "Requirement already satisfied: json2table in /usr/local/lib/python3.10/dist-packages (from foundry-ml->mastml) (1.1.5)\n",
            "Requirement already satisfied: tqdm>=4.19.4 in /usr/local/lib/python3.10/dist-packages (from mdf-forge->mastml) (4.66.5)\n",
            "Requirement already satisfied: fair-research-login>=0.2.4 in /usr/local/lib/python3.10/dist-packages (from mdf-toolbox->mastml) (0.3.1)\n",
            "Requirement already satisfied: jsonschema>=4.3.0 in /usr/local/lib/python3.10/dist-packages (from mdf-toolbox->mastml) (4.23.0)\n",
            "Requirement already satisfied: et-xmlfile in /usr/local/lib/python3.10/dist-packages (from openpyxl->mastml) (1.1.0)\n",
            "Requirement already satisfied: python-dateutil>=2.8.2 in /usr/local/lib/python3.10/dist-packages (from pandas->mastml) (2.8.2)\n",
            "Requirement already satisfied: pytz>=2020.1 in /usr/local/lib/python3.10/dist-packages (from pandas->mastml) (2024.2)\n",
            "Requirement already satisfied: tzdata>=2022.7 in /usr/local/lib/python3.10/dist-packages (from pandas->mastml) (2024.2)\n",
            "Requirement already satisfied: pytest in /usr/local/lib/python3.10/dist-packages (from madml->mastml) (7.4.4)\n",
            "Requirement already satisfied: docker in /usr/local/lib/python3.10/dist-packages (from madml->mastml) (7.1.0)\n",
            "Requirement already satisfied: tensorflow in /usr/local/lib/python3.10/dist-packages (from madml->mastml) (2.17.0)\n",
            "Requirement already satisfied: scikeras in /usr/local/lib/python3.10/dist-packages (from madml->mastml) (0.13.0)\n",
            "Requirement already satisfied: kneed in /usr/local/lib/python3.10/dist-packages (from madml->mastml) (0.8.5)\n",
            "Requirement already satisfied: pymongo~=4.5 in /usr/local/lib/python3.10/dist-packages (from matminer->mastml) (4.10.1)\n",
            "Collecting scikit-learn (from mastml)\n",
            "  Using cached scikit_learn-1.5.2-cp310-cp310-manylinux_2_17_x86_64.manylinux2014_x86_64.whl.metadata (13 kB)\n",
            "Requirement already satisfied: sympy~=1.11 in /usr/local/lib/python3.10/dist-packages (from matminer->mastml) (1.13.3)\n",
            "Requirement already satisfied: monty>=2023 in /usr/local/lib/python3.10/dist-packages (from matminer->mastml) (2024.7.30)\n",
            "Requirement already satisfied: networkx>=2.2 in /usr/local/lib/python3.10/dist-packages (from pymatgen->mastml) (3.3)\n",
            "Requirement already satisfied: palettable>=3.3.3 in /usr/local/lib/python3.10/dist-packages (from pymatgen->mastml) (3.3.3)\n",
            "Requirement already satisfied: plotly>=4.5.0 in /usr/local/lib/python3.10/dist-packages (from pymatgen->mastml) (5.24.1)\n",
            "Requirement already satisfied: pybtex>=0.24.0 in /usr/local/lib/python3.10/dist-packages (from pymatgen->mastml) (0.24.0)\n",
            "Requirement already satisfied: ruamel.yaml>=0.17.0 in /usr/local/lib/python3.10/dist-packages (from pymatgen->mastml) (0.18.6)\n",
            "Requirement already satisfied: spglib>=2.5.0 in /usr/local/lib/python3.10/dist-packages (from pymatgen->mastml) (2.5.0)\n",
            "Requirement already satisfied: tabulate>=0.9 in /usr/local/lib/python3.10/dist-packages (from pymatgen->mastml) (0.9.0)\n",
            "Requirement already satisfied: uncertainties>=3.1.4 in /usr/local/lib/python3.10/dist-packages (from pymatgen->mastml) (3.2.2)\n",
            "Requirement already satisfied: contourpy>=1.0.1 in /usr/local/lib/python3.10/dist-packages (from matplotlib->mastml) (1.3.0)\n",
            "Requirement already satisfied: cycler>=0.10 in /usr/local/lib/python3.10/dist-packages (from matplotlib->mastml) (0.12.1)\n",
            "Requirement already satisfied: fonttools>=4.22.0 in /usr/local/lib/python3.10/dist-packages (from matplotlib->mastml) (4.54.1)\n",
            "Requirement already satisfied: kiwisolver>=1.3.1 in /usr/local/lib/python3.10/dist-packages (from matplotlib->mastml) (1.4.7)\n",
            "Requirement already satisfied: packaging>=20.0 in /usr/local/lib/python3.10/dist-packages (from matplotlib->mastml) (24.1)\n",
            "Requirement already satisfied: pillow>=8 in /usr/local/lib/python3.10/dist-packages (from matplotlib->mastml) (10.4.0)\n",
            "Requirement already satisfied: pyparsing>=2.3.1 in /usr/local/lib/python3.10/dist-packages (from matplotlib->mastml) (3.1.4)\n",
            "Requirement already satisfied: ppft>=1.7.6.5 in /usr/local/lib/python3.10/dist-packages (from pathos->mastml) (1.7.6.9)\n",
            "Requirement already satisfied: dill>=0.3.5.1 in /usr/local/lib/python3.10/dist-packages (from pathos->mastml) (0.3.5.1)\n",
            "Requirement already satisfied: pox>=0.3.1 in /usr/local/lib/python3.10/dist-packages (from pathos->mastml) (0.3.5)\n",
            "Requirement already satisfied: multiprocess>=0.70.13 in /usr/local/lib/python3.10/dist-packages (from pathos->mastml) (0.70.13)\n",
            "Requirement already satisfied: pyaml>=16.9 in /usr/local/lib/python3.10/dist-packages (from scikit-optimize->mastml) (24.9.0)\n",
            "Requirement already satisfied: slicer==0.0.8 in /usr/local/lib/python3.10/dist-packages (from shap->mastml) (0.0.8)\n",
            "Requirement already satisfied: numba in /usr/local/lib/python3.10/dist-packages (from shap->mastml) (0.60.0)\n",
            "Requirement already satisfied: cloudpickle in /usr/local/lib/python3.10/dist-packages (from shap->mastml) (2.2.1)\n",
            "Requirement already satisfied: sphinx>=4 in /usr/local/lib/python3.10/dist-packages (from sphinx-automodapi->mastml) (5.0.2)\n",
            "Requirement already satisfied: patsy>=0.5.6 in /usr/local/lib/python3.10/dist-packages (from statsmodels->mastml) (0.5.6)\n",
            "Requirement already satisfied: torch in /usr/local/lib/python3.10/dist-packages (from transfernet->mastml) (2.4.1+cu121)\n",
            "Requirement already satisfied: globus-compute-sdk>=2.0.0 in /usr/local/lib/python3.10/dist-packages (from dlhub-sdk>=1.0.0->foundry-ml->mastml) (2.28.0)\n",
            "Requirement already satisfied: PyGithub in /usr/local/lib/python3.10/dist-packages (from dlhub-sdk>=1.0.0->foundry-ml->mastml) (2.4.0)\n",
            "Requirement already satisfied: pyjwt<3.0.0,>=2.0.0 in /usr/local/lib/python3.10/dist-packages (from pyjwt[crypto]<3.0.0,>=2.0.0->globus-sdk<4,>=3->foundry-ml->mastml) (2.9.0)\n",
            "Requirement already satisfied: cryptography!=3.4.0,>=3.3.1 in /usr/local/lib/python3.10/dist-packages (from globus-sdk<4,>=3->foundry-ml->mastml) (43.0.1)\n",
            "Requirement already satisfied: attrs>=22.2.0 in /usr/local/lib/python3.10/dist-packages (from jsonschema>=4.3.0->mdf-toolbox->mastml) (24.2.0)\n",
            "Requirement already satisfied: jsonschema-specifications>=2023.03.6 in /usr/local/lib/python3.10/dist-packages (from jsonschema>=4.3.0->mdf-toolbox->mastml) (2023.12.1)\n",
            "Requirement already satisfied: referencing>=0.28.4 in /usr/local/lib/python3.10/dist-packages (from jsonschema>=4.3.0->mdf-toolbox->mastml) (0.35.1)\n",
            "Requirement already satisfied: rpds-py>=0.7.1 in /usr/local/lib/python3.10/dist-packages (from jsonschema>=4.3.0->mdf-toolbox->mastml) (0.20.0)\n",
            "Requirement already satisfied: nameparser>=1.0.4 in /usr/local/lib/python3.10/dist-packages (from mdf-connect-client>=0.5.0->foundry-ml->mastml) (1.1.3)\n",
            "Requirement already satisfied: tenacity>=6.2.0 in /usr/local/lib/python3.10/dist-packages (from plotly>=4.5.0->pymatgen->mastml) (9.0.0)\n",
            "Requirement already satisfied: latexcodec>=1.0.4 in /usr/local/lib/python3.10/dist-packages (from pybtex>=0.24.0->pymatgen->mastml) (3.0.0)\n",
            "Requirement already satisfied: annotated-types>=0.6.0 in /usr/local/lib/python3.10/dist-packages (from pydantic>=2.7.2->foundry-ml->mastml) (0.7.0)\n",
            "Requirement already satisfied: pydantic-core==2.23.4 in /usr/local/lib/python3.10/dist-packages (from pydantic>=2.7.2->foundry-ml->mastml) (2.23.4)\n",
            "Requirement already satisfied: typing-extensions>=4.6.1 in /usr/local/lib/python3.10/dist-packages (from pydantic>=2.7.2->foundry-ml->mastml) (4.12.2)\n",
            "Requirement already satisfied: dnspython<3.0.0,>=1.16.0 in /usr/local/lib/python3.10/dist-packages (from pymongo~=4.5->matminer->mastml) (2.7.0)\n",
            "Requirement already satisfied: charset-normalizer<4,>=2 in /usr/local/lib/python3.10/dist-packages (from requests<3,>=2.20.0->citrination-client->mastml) (3.3.2)\n",
            "Requirement already satisfied: idna<4,>=2.5 in /usr/local/lib/python3.10/dist-packages (from requests<3,>=2.20.0->citrination-client->mastml) (3.10)\n",
            "Requirement already satisfied: urllib3<3,>=1.21.1 in /usr/local/lib/python3.10/dist-packages (from requests<3,>=2.20.0->citrination-client->mastml) (2.2.3)\n",
            "Requirement already satisfied: certifi>=2017.4.17 in /usr/local/lib/python3.10/dist-packages (from requests<3,>=2.20.0->citrination-client->mastml) (2024.8.30)\n",
            "Requirement already satisfied: ruamel.yaml.clib>=0.2.7 in /usr/local/lib/python3.10/dist-packages (from ruamel.yaml>=0.17.0->pymatgen->mastml) (0.2.8)\n",
            "Requirement already satisfied: sphinxcontrib-applehelp in /usr/local/lib/python3.10/dist-packages (from sphinx>=4->sphinx-automodapi->mastml) (2.0.0)\n",
            "Requirement already satisfied: sphinxcontrib-devhelp in /usr/local/lib/python3.10/dist-packages (from sphinx>=4->sphinx-automodapi->mastml) (2.0.0)\n",
            "Requirement already satisfied: sphinxcontrib-jsmath in /usr/local/lib/python3.10/dist-packages (from sphinx>=4->sphinx-automodapi->mastml) (1.0.1)\n",
            "Requirement already satisfied: sphinxcontrib-htmlhelp>=2.0.0 in /usr/local/lib/python3.10/dist-packages (from sphinx>=4->sphinx-automodapi->mastml) (2.1.0)\n",
            "Requirement already satisfied: sphinxcontrib-serializinghtml>=1.1.5 in /usr/local/lib/python3.10/dist-packages (from sphinx>=4->sphinx-automodapi->mastml) (2.0.0)\n",
            "Requirement already satisfied: sphinxcontrib-qthelp in /usr/local/lib/python3.10/dist-packages (from sphinx>=4->sphinx-automodapi->mastml) (2.0.0)\n",
            "Requirement already satisfied: Jinja2>=2.3 in /usr/local/lib/python3.10/dist-packages (from sphinx>=4->sphinx-automodapi->mastml) (3.1.4)\n",
            "Requirement already satisfied: Pygments>=2.0 in /usr/local/lib/python3.10/dist-packages (from sphinx>=4->sphinx-automodapi->mastml) (2.18.0)\n",
            "Requirement already satisfied: docutils<0.19,>=0.14 in /usr/local/lib/python3.10/dist-packages (from sphinx>=4->sphinx-automodapi->mastml) (0.18.1)\n",
            "Requirement already satisfied: snowballstemmer>=1.1 in /usr/local/lib/python3.10/dist-packages (from sphinx>=4->sphinx-automodapi->mastml) (2.2.0)\n",
            "Requirement already satisfied: babel>=1.3 in /usr/local/lib/python3.10/dist-packages (from sphinx>=4->sphinx-automodapi->mastml) (2.16.0)\n",
            "Requirement already satisfied: alabaster<0.8,>=0.7 in /usr/local/lib/python3.10/dist-packages (from sphinx>=4->sphinx-automodapi->mastml) (0.7.16)\n",
            "Requirement already satisfied: imagesize in /usr/local/lib/python3.10/dist-packages (from sphinx>=4->sphinx-automodapi->mastml) (1.4.1)\n",
            "Requirement already satisfied: mpmath<1.4,>=1.1.0 in /usr/local/lib/python3.10/dist-packages (from sympy~=1.11->matminer->mastml) (1.3.0)\n",
            "Requirement already satisfied: llvmlite<0.44,>=0.43.0dev0 in /usr/local/lib/python3.10/dist-packages (from numba->shap->mastml) (0.43.0)\n",
            "Requirement already satisfied: iniconfig in /usr/local/lib/python3.10/dist-packages (from pytest->madml->mastml) (2.0.0)\n",
            "Requirement already satisfied: pluggy<2.0,>=0.12 in /usr/local/lib/python3.10/dist-packages (from pytest->madml->mastml) (1.5.0)\n",
            "Requirement already satisfied: exceptiongroup>=1.0.0rc8 in /usr/local/lib/python3.10/dist-packages (from pytest->madml->mastml) (1.2.2)\n",
            "Requirement already satisfied: tomli>=1.0.0 in /usr/local/lib/python3.10/dist-packages (from pytest->madml->mastml) (2.0.1)\n",
            "Requirement already satisfied: keras>=3.2.0 in /usr/local/lib/python3.10/dist-packages (from scikeras->madml->mastml) (3.4.1)\n",
            "Requirement already satisfied: absl-py>=1.0.0 in /usr/local/lib/python3.10/dist-packages (from tensorflow->madml->mastml) (1.4.0)\n",
            "Requirement already satisfied: astunparse>=1.6.0 in /usr/local/lib/python3.10/dist-packages (from tensorflow->madml->mastml) (1.6.3)\n",
            "Requirement already satisfied: flatbuffers>=24.3.25 in /usr/local/lib/python3.10/dist-packages (from tensorflow->madml->mastml) (24.3.25)\n",
            "Requirement already satisfied: gast!=0.5.0,!=0.5.1,!=0.5.2,>=0.2.1 in /usr/local/lib/python3.10/dist-packages (from tensorflow->madml->mastml) (0.6.0)\n",
            "Requirement already satisfied: google-pasta>=0.1.1 in /usr/local/lib/python3.10/dist-packages (from tensorflow->madml->mastml) (0.2.0)\n",
            "Requirement already satisfied: libclang>=13.0.0 in /usr/local/lib/python3.10/dist-packages (from tensorflow->madml->mastml) (18.1.1)\n",
            "Requirement already satisfied: ml-dtypes<0.5.0,>=0.3.1 in /usr/local/lib/python3.10/dist-packages (from tensorflow->madml->mastml) (0.4.1)\n",
            "Requirement already satisfied: opt-einsum>=2.3.2 in /usr/local/lib/python3.10/dist-packages (from tensorflow->madml->mastml) (3.4.0)\n",
            "Requirement already satisfied: protobuf!=4.21.0,!=4.21.1,!=4.21.2,!=4.21.3,!=4.21.4,!=4.21.5,<5.0.0dev,>=3.20.3 in /usr/local/lib/python3.10/dist-packages (from tensorflow->madml->mastml) (3.20.3)\n",
            "Requirement already satisfied: setuptools in /usr/local/lib/python3.10/dist-packages (from tensorflow->madml->mastml) (71.0.4)\n",
            "Requirement already satisfied: termcolor>=1.1.0 in /usr/local/lib/python3.10/dist-packages (from tensorflow->madml->mastml) (2.4.0)\n",
            "Requirement already satisfied: wrapt>=1.11.0 in /usr/local/lib/python3.10/dist-packages (from tensorflow->madml->mastml) (1.16.0)\n",
            "Requirement already satisfied: grpcio<2.0,>=1.24.3 in /usr/local/lib/python3.10/dist-packages (from tensorflow->madml->mastml) (1.64.1)\n",
            "Requirement already satisfied: tensorboard<2.18,>=2.17 in /usr/local/lib/python3.10/dist-packages (from tensorflow->madml->mastml) (2.17.0)\n",
            "Requirement already satisfied: tensorflow-io-gcs-filesystem>=0.23.1 in /usr/local/lib/python3.10/dist-packages (from tensorflow->madml->mastml) (0.37.1)\n",
            "Requirement already satisfied: filelock in /usr/local/lib/python3.10/dist-packages (from torch->transfernet->mastml) (3.16.1)\n",
            "Requirement already satisfied: fsspec in /usr/local/lib/python3.10/dist-packages (from torch->transfernet->mastml) (2024.6.1)\n",
            "Requirement already satisfied: wheel<1.0,>=0.23.0 in /usr/local/lib/python3.10/dist-packages (from astunparse>=1.6.0->tensorflow->madml->mastml) (0.44.0)\n",
            "Requirement already satisfied: cffi>=1.12 in /usr/local/lib/python3.10/dist-packages (from cryptography!=3.4.0,>=3.3.1->globus-sdk<4,>=3->foundry-ml->mastml) (1.17.1)\n",
            "Requirement already satisfied: globus-compute-common==0.4.1 in /usr/local/lib/python3.10/dist-packages (from globus-compute-sdk>=2.0.0->dlhub-sdk>=1.0.0->foundry-ml->mastml) (0.4.1)\n",
            "Requirement already satisfied: pika>=1.2 in /usr/local/lib/python3.10/dist-packages (from globus-compute-sdk>=2.0.0->dlhub-sdk>=1.0.0->foundry-ml->mastml) (1.3.2)\n",
            "Requirement already satisfied: tblib==1.7.0 in /usr/local/lib/python3.10/dist-packages (from globus-compute-sdk>=2.0.0->dlhub-sdk>=1.0.0->foundry-ml->mastml) (1.7.0)\n",
            "Requirement already satisfied: texttable>=1.6.7 in /usr/local/lib/python3.10/dist-packages (from globus-compute-sdk>=2.0.0->dlhub-sdk>=1.0.0->foundry-ml->mastml) (1.7.0)\n",
            "Requirement already satisfied: MarkupSafe>=2.0 in /usr/local/lib/python3.10/dist-packages (from Jinja2>=2.3->sphinx>=4->sphinx-automodapi->mastml) (2.1.5)\n",
            "Requirement already satisfied: rich in /usr/local/lib/python3.10/dist-packages (from keras>=3.2.0->scikeras->madml->mastml) (13.8.1)\n",
            "Requirement already satisfied: namex in /usr/local/lib/python3.10/dist-packages (from keras>=3.2.0->scikeras->madml->mastml) (0.0.8)\n",
            "Requirement already satisfied: optree in /usr/local/lib/python3.10/dist-packages (from keras>=3.2.0->scikeras->madml->mastml) (0.12.1)\n",
            "Requirement already satisfied: markdown>=2.6.8 in /usr/local/lib/python3.10/dist-packages (from tensorboard<2.18,>=2.17->tensorflow->madml->mastml) (3.7)\n",
            "Requirement already satisfied: tensorboard-data-server<0.8.0,>=0.7.0 in /usr/local/lib/python3.10/dist-packages (from tensorboard<2.18,>=2.17->tensorflow->madml->mastml) (0.7.2)\n",
            "Requirement already satisfied: werkzeug>=1.0.1 in /usr/local/lib/python3.10/dist-packages (from tensorboard<2.18,>=2.17->tensorflow->madml->mastml) (3.0.4)\n",
            "Requirement already satisfied: pynacl>=1.4.0 in /usr/local/lib/python3.10/dist-packages (from PyGithub->dlhub-sdk>=1.0.0->foundry-ml->mastml) (1.5.0)\n",
            "Requirement already satisfied: Deprecated in /usr/local/lib/python3.10/dist-packages (from PyGithub->dlhub-sdk>=1.0.0->foundry-ml->mastml) (1.2.14)\n",
            "Requirement already satisfied: pycparser in /usr/local/lib/python3.10/dist-packages (from cffi>=1.12->cryptography!=3.4.0,>=3.3.1->globus-sdk<4,>=3->foundry-ml->mastml) (2.22)\n",
            "Requirement already satisfied: markdown-it-py>=2.2.0 in /usr/local/lib/python3.10/dist-packages (from rich->keras>=3.2.0->scikeras->madml->mastml) (3.0.0)\n",
            "Requirement already satisfied: mdurl~=0.1 in /usr/local/lib/python3.10/dist-packages (from markdown-it-py>=2.2.0->rich->keras>=3.2.0->scikeras->madml->mastml) (0.1.2)\n",
            "Using cached scikit_learn-1.5.2-cp310-cp310-manylinux_2_17_x86_64.manylinux2014_x86_64.whl (13.3 MB)\n",
            "Installing collected packages: scikit-learn\n",
            "  Attempting uninstall: scikit-learn\n",
            "    Found existing installation: scikit-learn 1.1.3\n",
            "    Uninstalling scikit-learn-1.1.3:\n",
            "      Successfully uninstalled scikit-learn-1.1.3\n",
            "Successfully installed scikit-learn-1.5.2\n",
            "Collecting scikit-learn==1.1.3\n",
            "  Using cached scikit_learn-1.1.3-cp310-cp310-manylinux_2_17_x86_64.manylinux2014_x86_64.whl.metadata (10 kB)\n",
            "Requirement already satisfied: numpy>=1.17.3 in /usr/local/lib/python3.10/dist-packages (from scikit-learn==1.1.3) (1.26.4)\n",
            "Requirement already satisfied: scipy>=1.3.2 in /usr/local/lib/python3.10/dist-packages (from scikit-learn==1.1.3) (1.13.1)\n",
            "Requirement already satisfied: joblib>=1.0.0 in /usr/local/lib/python3.10/dist-packages (from scikit-learn==1.1.3) (1.4.2)\n",
            "Requirement already satisfied: threadpoolctl>=2.0.0 in /usr/local/lib/python3.10/dist-packages (from scikit-learn==1.1.3) (3.5.0)\n",
            "Using cached scikit_learn-1.1.3-cp310-cp310-manylinux_2_17_x86_64.manylinux2014_x86_64.whl (30.5 MB)\n",
            "Installing collected packages: scikit-learn\n",
            "  Attempting uninstall: scikit-learn\n",
            "    Found existing installation: scikit-learn 1.5.2\n",
            "    Uninstalling scikit-learn-1.5.2:\n",
            "      Successfully uninstalled scikit-learn-1.5.2\n",
            "\u001b[31mERROR: pip's dependency resolver does not currently take into account all the packages that are installed. This behaviour is the source of the following dependency conflicts.\n",
            "bigframes 1.19.0 requires scikit-learn>=1.2.2, but you have scikit-learn 1.1.3 which is incompatible.\n",
            "matminer 0.9.3 requires scikit-learn~=1.3, but you have scikit-learn 1.1.3 which is incompatible.\n",
            "scikeras 0.13.0 requires scikit-learn>=1.4.2, but you have scikit-learn 1.1.3 which is incompatible.\u001b[0m\u001b[31m\n",
            "\u001b[0mSuccessfully installed scikit-learn-1.1.3\n"
          ]
        }
      ]
    },
    {
      "cell_type": "code",
      "source": [
        "from google.colab import drive\n",
        "drive.mount('/content/drive', force_remount=True)\n"
      ],
      "metadata": {
        "colab": {
          "base_uri": "https://localhost:8080/"
        },
        "id": "PkTRir1ggshq",
        "outputId": "7d148a3c-4568-43eb-9346-8caa36744803"
      },
      "execution_count": null,
      "outputs": [
        {
          "output_type": "stream",
          "name": "stdout",
          "text": [
            "Mounted at /content/drive\n"
          ]
        }
      ]
    },
    {
      "cell_type": "code",
      "source": [
        "# Import required modules for MAST-ML and data handling\n",
        "from google.colab import drive\n",
        "from mastml.mastml import Mastml\n",
        "from mastml.preprocessing import SklearnPreprocessor\n",
        "from mastml.models import SklearnModel\n",
        "from mastml.data_splitters import SklearnDataSplitter\n",
        "from xgboost import XGBRegressor\n",
        "import pandas as pd\n"
      ],
      "metadata": {
        "id": "qMoUwy7mi17B"
      },
      "execution_count": null,
      "outputs": []
    },
    {
      "cell_type": "code",
      "source": [
        "# Load your dataset\n",
        "file_path = '/content/drive/MyDrive/V3DataSet_Normization.xlsx'\n",
        "data = pd.read_excel(file_path)\n",
        "\n",
        "# Drop categorical columns and focus on numeric data\n",
        "data = data.select_dtypes(include=['float64', 'int64'])\n",
        "\n",
        "# Step 6: Check for NaN and Infinite Values\n",
        "print(\"NaN values in dataset:\\n\", data.isna().sum())\n",
        "print(\"Infinite values in dataset:\\n\", np.isinf(data).sum())\n",
        "\n",
        "# Handle NaN and Infinite Values\n",
        "data = data.fillna(0)  # Fill NaN values with 0, or use data.dropna()\n",
        "data = data[~np.isinf(data).any(axis=1)]  # Remove rows with infinite values\n"
      ],
      "metadata": {
        "colab": {
          "base_uri": "https://localhost:8080/"
        },
        "id": "2VfX1fV1i3ah",
        "outputId": "dff56210-fd63-4052-a8b1-def5f2be7c15"
      },
      "execution_count": null,
      "outputs": [
        {
          "output_type": "stream",
          "name": "stdout",
          "text": [
            "NaN values in dataset:\n",
            " Amount                      0\n",
            "Normalized Amount           0\n",
            "Account Number              0\n",
            "Total Donation              0\n",
            "Num Months                  0\n",
            "Average Monthly Donation    0\n",
            "dtype: int64\n",
            "Infinite values in dataset:\n",
            " Amount                       0\n",
            "Normalized Amount            0\n",
            "Account Number               0\n",
            "Total Donation               0\n",
            "Num Months                   0\n",
            "Average Monthly Donation    19\n",
            "dtype: int64\n"
          ]
        }
      ]
    },
    {
      "cell_type": "code",
      "source": [
        "# Step 7: Set Up Save Path\n",
        "SAVEPATH = '/content/drive/MyDrive/V3_regression_forest_data'\n",
        "mastml = Mastml(savepath=SAVEPATH)\n",
        "savepath = mastml.get_savepath  # Note: no parentheses"
      ],
      "metadata": {
        "colab": {
          "base_uri": "https://localhost:8080/"
        },
        "id": "UcegV6mYjpS0",
        "outputId": "a94f441b-ec2b-4026-cc3b-566c41b4b7b4"
      },
      "execution_count": null,
      "outputs": [
        {
          "output_type": "stream",
          "name": "stdout",
          "text": [
            "/content/drive/MyDrive/V3_regression_forest_data not empty. Renaming...\n"
          ]
        }
      ]
    },
    {
      "cell_type": "code",
      "source": [
        "# Step 8: Preprocess Data\n",
        "preprocessor = SklearnPreprocessor(preprocessor='StandardScaler', as_frame=True)\n",
        "X = preprocessor.evaluate(data, savepath=savepath)\n"
      ],
      "metadata": {
        "id": "5EUqdiF2jxp-"
      },
      "execution_count": null,
      "outputs": []
    },
    {
      "cell_type": "code",
      "source": [
        "# Step 9: Define and Evaluate Models\n",
        "model1 = SklearnModel(model='LinearRegression')\n",
        "model2 = SklearnModel(model='KernelRidge', kernel='rbf')\n",
        "model3 = SklearnModel(model='RandomForestRegressor')\n",
        "\n",
        "# Define XGBoost model without SklearnModel\n",
        "xgboost_model = XGBRegressor()  # Create an instance of XGBRegressor\n",
        "\n",
        "models = [model1, model2, model3]  # Add other models to the list"
      ],
      "metadata": {
        "id": "gMK_EgfNj-Ce"
      },
      "execution_count": null,
      "outputs": []
    },
    {
      "cell_type": "code",
      "source": [
        "# Assuming 'Total Donation' is your target variable\n",
        "target_variable = 'Total Donation'\n",
        "X_features = data.drop(columns=[target_variable])  # Features without target\n",
        "\n",
        "# Step 10: Split and Evaluate Models\n",
        "splitter = SklearnDataSplitter(splitter='RepeatedKFold', n_repeats=1, n_splits=5)\n",
        "result = splitter.evaluate(X=X_features, y=data[target_variable], models=models + [xgboost_model], preprocessor=preprocessor, savepath=savepath, verbosity=3)"
      ],
      "metadata": {
        "colab": {
          "base_uri": "https://localhost:8080/"
        },
        "id": "u2gZBqNXkAP7",
        "outputId": "899942f0-ad42-4428-cb08-0bfd72d7d0bb"
      },
      "execution_count": null,
      "outputs": [
        {
          "output_type": "stream",
          "name": "stderr",
          "text": [
            "Running splits: 100%|██████████| 5/5 [00:07<00:00,  1.60s/it]\n"
          ]
        },
        {
          "output_type": "stream",
          "name": "stdout",
          "text": [
            "Warning: unable to make Scatter.plot_best_worst_per_point plot. Skipping...\n",
            "Warning: unable to make Scatter.plot_best_worst_per_point plot. Skipping...\n"
          ]
        },
        {
          "output_type": "stream",
          "name": "stderr",
          "text": [
            "Running splits: 100%|██████████| 5/5 [01:22<00:00, 16.49s/it]\n"
          ]
        },
        {
          "output_type": "stream",
          "name": "stdout",
          "text": [
            "Warning: unable to make Scatter.plot_best_worst_per_point plot. Skipping...\n",
            "Warning: unable to make Scatter.plot_best_worst_per_point plot. Skipping...\n"
          ]
        },
        {
          "output_type": "stream",
          "name": "stderr",
          "text": [
            "Running splits: 100%|██████████| 5/5 [06:36<00:00, 79.40s/it]\n"
          ]
        },
        {
          "output_type": "stream",
          "name": "stdout",
          "text": [
            "Warning: unable to make Scatter.plot_best_worst_per_point plot. Skipping...\n",
            "Warning: unable to make Scatter.plot_best_worst_per_point plot. Skipping...\n"
          ]
        },
        {
          "output_type": "stream",
          "name": "stderr",
          "text": [
            "Running splits: 100%|██████████| 5/5 [00:08<00:00,  1.71s/it]\n"
          ]
        },
        {
          "output_type": "stream",
          "name": "stdout",
          "text": [
            "Warning: unable to make Scatter.plot_best_worst_per_point plot. Skipping...\n",
            "Warning: unable to make Scatter.plot_best_worst_per_point plot. Skipping...\n"
          ]
        }
      ]
    },
    {
      "cell_type": "code",
      "source": [
        "print(f\"Results saved at: {savepath}\")\n"
      ],
      "metadata": {
        "colab": {
          "base_uri": "https://localhost:8080/"
        },
        "id": "lAsFUhPdt-Un",
        "outputId": "306ebf43-8016-4e18-983d-7672e01de892"
      },
      "execution_count": null,
      "outputs": [
        {
          "output_type": "stream",
          "name": "stdout",
          "text": [
            "Results saved at: /content/drive/MyDrive/V3_regression_forest_data_2024_10_06_20_40_19\n"
          ]
        }
      ]
    }
  ]
}
