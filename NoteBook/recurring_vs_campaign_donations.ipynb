{
  "nbformat": 4,
  "nbformat_minor": 0,
  "metadata": {
    "colab": {
      "provenance": []
    },
    "kernelspec": {
      "name": "python3",
      "display_name": "Python 3"
    },
    "language_info": {
      "name": "python"
    }
  },
  "cells": [
    {
      "cell_type": "code",
      "source": [
        "from google.colab import drive\n",
        "drive.mount('/content/drive', force_remount=True)"
      ],
      "metadata": {
        "colab": {
          "base_uri": "https://localhost:8080/"
        },
        "id": "yLMEGrz1NNXo",
        "outputId": "826c1a2e-4e26-4b0d-ef18-872e63d652af"
      },
      "execution_count": null,
      "outputs": [
        {
          "output_type": "stream",
          "name": "stdout",
          "text": [
            "Mounted at /content/drive\n"
          ]
        }
      ]
    },
    {
      "cell_type": "code",
      "execution_count": null,
      "metadata": {
        "colab": {
          "base_uri": "https://localhost:8080/"
        },
        "id": "VElcPaO3NHBe",
        "outputId": "11b3767e-bacf-4cc7-f204-2062ab11bc1a"
      },
      "outputs": [
        {
          "output_type": "stream",
          "name": "stdout",
          "text": [
            "Total Recurring Donations: $154173.26\n",
            "Total Contributions for 'Support The River': $555405.65\n",
            "Percentage of Recurring Donations: 27.76%\n",
            "Percentage of Total Donations to 'Support The River': 76.98%\n"
          ]
        }
      ],
      "source": [
        "import pandas as pd\n",
        "\n",
        "# Load the data from a CSV file\n",
        "file_path = '/content/drive/MyDrive/skunkworks_data_v4.csv'  # Replace with your actual file path\n",
        "df = pd.read_csv(file_path)\n",
        "\n",
        "\n",
        "\n",
        "# Step 1: Calculate total recurring donations\n",
        "recurring_donations = df[df['Type'] == \"Recurring Donation Payment\"]['Amount'].sum()\n",
        "\n",
        "# Step 2: Calculate total contributions for \"Support The River\"\n",
        "support_the_river_donations = df[df['Campaign'] == \"Support The River\"]['Amount'].sum()\n",
        "\n",
        "# Step 3: Calculate total donations\n",
        "total_donations = df['Amount'].sum()\n",
        "\n",
        "# Calculate percentages\n",
        "if support_the_river_donations > 0:\n",
        "    percentage_recurring = (recurring_donations / support_the_river_donations) * 100\n",
        "else:\n",
        "    percentage_recurring = 0\n",
        "\n",
        "if total_donations > 0:\n",
        "    percentage_support_river = (support_the_river_donations / total_donations) * 100\n",
        "else:\n",
        "    percentage_support_river = 0\n",
        "\n",
        "# Display results\n",
        "print(f\"Total Recurring Donations: ${recurring_donations:.2f}\")\n",
        "print(f\"Total Contributions for 'Support The River': ${support_the_river_donations:.2f}\")\n",
        "print(f\"Percentage of Recurring Donations: {percentage_recurring:.2f}%\")\n",
        "print(f\"Percentage of Total Donations to 'Support The River': {percentage_support_river:.2f}%\")\n",
        "\n"
      ]
    }
  ]
}